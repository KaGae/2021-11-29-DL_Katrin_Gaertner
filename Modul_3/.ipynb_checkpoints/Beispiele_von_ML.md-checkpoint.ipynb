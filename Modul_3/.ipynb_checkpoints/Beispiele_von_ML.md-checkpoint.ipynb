{
 "cells": [
  {
   "cell_type": "markdown",
   "id": "b2d72275",
   "metadata": {},
   "source": [
    "#### Sieh Dir da das Video “Eine Einführung in das Maschinelle Lernen” an. Im Quiz wird das Verständnis einiger Punkte abgefragt. Mit diesem Hintergrundwissen überlege, an welcher Stelle Deines beruflichen aber auch privaten Alltages maschinelles Lernen auf Daten von Dir angewandt wird. Um welche Typen von Features handelt es sich? Welche maschinelle Verfahren werden möglicherweise angewandt? Mach Dir diese Überlegungen für Dich oder erstell in Deinem Git-Repositorium eine Markdown-Datei Beispiele_von_ML.md im Unterordner Module_3 und notiere Deine Vermutungen."
   ]
  },
  {
   "cell_type": "markdown",
   "id": "7818c12e",
   "metadata": {},
   "source": [
    "##### Wo wird maschinelles Lernen in meinem Leben angewandt.\n",
    "\n",
    "###### - z. B. LibreOffice  - Wortvervollständigung\n",
    "###### - Gmail – Filterung von Emails – nicht nur Spam, sondern Möglichkeit nach Email mit Anhängen, z. B. PDF Anhängen zu suchen\n",
    "###### - Empfehlungssysteme – BibTipp im Onlinekatalog\n",
    "###### - OCR- Texterkennung\n",
    "###### - National Graph Clustering – Anreicherung von Ebook-Daten anhand von Ähnlichkeit (zu Buchaufnahme)\n",
    "###### - Batteriespeicherverbrauch, automatische Regulierung"
   ]
  },
  {
   "cell_type": "code",
   "execution_count": null,
   "id": "82f15375",
   "metadata": {},
   "outputs": [],
   "source": []
  }
 ],
 "metadata": {
  "kernelspec": {
   "display_name": "Python 3 (ipykernel)",
   "language": "python",
   "name": "python3"
  },
  "language_info": {
   "codemirror_mode": {
    "name": "ipython",
    "version": 3
   },
   "file_extension": ".py",
   "mimetype": "text/x-python",
   "name": "python",
   "nbconvert_exporter": "python",
   "pygments_lexer": "ipython3",
   "version": "3.9.7"
  }
 },
 "nbformat": 4,
 "nbformat_minor": 5
}
