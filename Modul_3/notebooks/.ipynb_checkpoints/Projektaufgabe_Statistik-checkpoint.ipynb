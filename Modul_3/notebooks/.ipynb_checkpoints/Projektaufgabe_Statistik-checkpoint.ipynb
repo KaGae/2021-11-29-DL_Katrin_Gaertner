{
 "cells": [
  {
   "cell_type": "markdown",
   "id": "2839e8ce",
   "metadata": {},
   "source": [
    "#### Projektaufgabe: Deskriptive Statistik und Visualisierungen\n",
    "##### Für den Online-Artikel zum Kundenstamm der Bibliothek braucht die Pressestelle einige interessanten Zahlen zum Thema Alter und Bibliotheksnutzung. Außerdem möchte sie die Daten in einer Info-Graphik zusammenstellen.\n",
    "\n",
    "##### Für eine erste Demo bist Du verantwortlich:\n",
    "\n",
    "##### Berechne 2-3 Statistiken und erstelle 2-3 Visualisierungen basierend auf den Informationen im Datensatz.\n",
    "###### Nutze pandas zur Berechnung der Statistiken und seaborn für die Visualisierungen.\n",
    "###### Lade bis spätestens 25.03.21 Deinen Report in Form eines Jupyter Notebooks in der Dateiablage in Moodle hoch."
   ]
  },
  {
   "cell_type": "markdown",
   "id": "7369f673",
   "metadata": {},
   "source": [
    "###### Beispielfragen, die Du mit dem Datensatz beantworten und visualisieren kannst:\n",
    "####### Wie viele Senioren und Kinder sind Kunden der San Francisco Public Library?\n",
    "####### Wie viele Nutzer möchten per Mail informiert werden?\n",
    "####### Wie alt sind diese Nutzer durchschnittlich im Vergleich zu Nutzern, die per Post informiert werden möchten?\n",
    "####### Wie viele Ausleihen werden im Mittel pro Altersgruppe und pro Jahr getätigt? Ist die Streuung zwischen den Gruppen gleich?"
   ]
  },
  {
   "cell_type": "code",
   "execution_count": 1,
   "id": "140488d4",
   "metadata": {},
   "outputs": [],
   "source": [
    "import pandas as pd\n",
    "import matplotlib.pyplot as plt\n",
    "import seaborn as sns\n",
    "import numpy as np\n",
    "%matplotlib inline\n",
    "sns.set()\n",
    "\n",
    "# use sample to generate a random subsample\n",
    "df = pd.read_csv(\"/home/katrin/2021-11-29-DL_Katrin_Gaertner/Modul_3/data/Library_Usage.csv\", na_values=\"None\")"
   ]
  },
  {
   "cell_type": "code",
   "execution_count": 2,
   "id": "3f546bfe",
   "metadata": {},
   "outputs": [
    {
     "data": {
      "text/html": [
       "<div><div id=4f361fb7-96ed-4640-a543-68a4fd18a0ea style=\"display:none; background-color:#9D6CFF; color:white; width:200px; height:30px; padding-left:5px; border-radius:4px; flex-direction:row; justify-content:space-around; align-items:center;\" onmouseover=\"this.style.backgroundColor='#BA9BF8'\" onmouseout=\"this.style.backgroundColor='#9D6CFF'\" onclick=\"window.commands?.execute('create-mitosheet-from-dataframe-output');\">See Full Dataframe in Mito</div> <script> if (window.commands.hasCommand('create-mitosheet-from-dataframe-output')) document.getElementById('4f361fb7-96ed-4640-a543-68a4fd18a0ea').style.display = 'flex' </script> <table border=\"1\" class=\"dataframe\">\n",
       "  <thead>\n",
       "    <tr style=\"text-align: right;\">\n",
       "      <th></th>\n",
       "      <th>Patron Type Code</th>\n",
       "      <th>Patron Type Definition</th>\n",
       "      <th>Total Checkouts</th>\n",
       "      <th>Total Renewals</th>\n",
       "      <th>Age Range</th>\n",
       "      <th>Home Library Code</th>\n",
       "      <th>Home Library Definition</th>\n",
       "      <th>Circulation Active Month</th>\n",
       "      <th>Circulation Active Year</th>\n",
       "      <th>Notice Preference Code</th>\n",
       "      <th>Notice Preference Definition</th>\n",
       "      <th>Provided Email Address</th>\n",
       "      <th>Year Patron Registered</th>\n",
       "      <th>Outside of County</th>\n",
       "      <th>Supervisor District</th>\n",
       "    </tr>\n",
       "  </thead>\n",
       "  <tbody>\n",
       "    <tr>\n",
       "      <th>423438</th>\n",
       "      <td>0</td>\n",
       "      <td>ADULT</td>\n",
       "      <td>0</td>\n",
       "      <td>0</td>\n",
       "      <td>10 to 19 years</td>\n",
       "      <td>W4</td>\n",
       "      <td>Western Addition</td>\n",
       "      <td>NaN</td>\n",
       "      <td>NaN</td>\n",
       "      <td>z</td>\n",
       "      <td>email</td>\n",
       "      <td>True</td>\n",
       "      <td>2015</td>\n",
       "      <td>True</td>\n",
       "      <td>NaN</td>\n",
       "    </tr>\n",
       "    <tr>\n",
       "      <th>423439</th>\n",
       "      <td>1</td>\n",
       "      <td>JUVENILE</td>\n",
       "      <td>0</td>\n",
       "      <td>0</td>\n",
       "      <td>0 to 9 years</td>\n",
       "      <td>N4</td>\n",
       "      <td>Noe Valley/Sally Brunn</td>\n",
       "      <td>NaN</td>\n",
       "      <td>NaN</td>\n",
       "      <td>z</td>\n",
       "      <td>email</td>\n",
       "      <td>True</td>\n",
       "      <td>2015</td>\n",
       "      <td>False</td>\n",
       "      <td>8.0</td>\n",
       "    </tr>\n",
       "    <tr>\n",
       "      <th>423440</th>\n",
       "      <td>2</td>\n",
       "      <td>YOUNG ADULT</td>\n",
       "      <td>42</td>\n",
       "      <td>53</td>\n",
       "      <td>10 to 19 years</td>\n",
       "      <td>M4</td>\n",
       "      <td>Merced</td>\n",
       "      <td>June</td>\n",
       "      <td>2014.0</td>\n",
       "      <td>p</td>\n",
       "      <td>phone</td>\n",
       "      <td>False</td>\n",
       "      <td>2011</td>\n",
       "      <td>True</td>\n",
       "      <td>NaN</td>\n",
       "    </tr>\n",
       "    <tr>\n",
       "      <th>423441</th>\n",
       "      <td>3</td>\n",
       "      <td>SENIOR</td>\n",
       "      <td>1812</td>\n",
       "      <td>0</td>\n",
       "      <td>75 years and over</td>\n",
       "      <td>C2</td>\n",
       "      <td>Chinatown</td>\n",
       "      <td>July</td>\n",
       "      <td>2016.0</td>\n",
       "      <td>p</td>\n",
       "      <td>phone</td>\n",
       "      <td>False</td>\n",
       "      <td>2012</td>\n",
       "      <td>False</td>\n",
       "      <td>3.0</td>\n",
       "    </tr>\n",
       "    <tr>\n",
       "      <th>423442</th>\n",
       "      <td>2</td>\n",
       "      <td>YOUNG ADULT</td>\n",
       "      <td>608</td>\n",
       "      <td>364</td>\n",
       "      <td>10 to 19 years</td>\n",
       "      <td>S7</td>\n",
       "      <td>Sunset</td>\n",
       "      <td>July</td>\n",
       "      <td>2016.0</td>\n",
       "      <td>z</td>\n",
       "      <td>email</td>\n",
       "      <td>True</td>\n",
       "      <td>2003</td>\n",
       "      <td>False</td>\n",
       "      <td>7.0</td>\n",
       "    </tr>\n",
       "    <tr>\n",
       "      <th>423443</th>\n",
       "      <td>0</td>\n",
       "      <td>ADULT</td>\n",
       "      <td>291</td>\n",
       "      <td>13</td>\n",
       "      <td>10 to 19 years</td>\n",
       "      <td>P5</td>\n",
       "      <td>Portola</td>\n",
       "      <td>March</td>\n",
       "      <td>2015.0</td>\n",
       "      <td>p</td>\n",
       "      <td>phone</td>\n",
       "      <td>False</td>\n",
       "      <td>2009</td>\n",
       "      <td>False</td>\n",
       "      <td>9.0</td>\n",
       "    </tr>\n",
       "    <tr>\n",
       "      <th>423444</th>\n",
       "      <td>0</td>\n",
       "      <td>ADULT</td>\n",
       "      <td>15</td>\n",
       "      <td>11</td>\n",
       "      <td>60 to 64 years</td>\n",
       "      <td>M8</td>\n",
       "      <td>Mission Bay</td>\n",
       "      <td>July</td>\n",
       "      <td>2016.0</td>\n",
       "      <td>z</td>\n",
       "      <td>email</td>\n",
       "      <td>True</td>\n",
       "      <td>2016</td>\n",
       "      <td>False</td>\n",
       "      <td>6.0</td>\n",
       "    </tr>\n",
       "    <tr>\n",
       "      <th>423445</th>\n",
       "      <td>5</td>\n",
       "      <td>STAFF</td>\n",
       "      <td>208</td>\n",
       "      <td>58</td>\n",
       "      <td>0 to 9 years</td>\n",
       "      <td>B4</td>\n",
       "      <td>Bernal Heights</td>\n",
       "      <td>July</td>\n",
       "      <td>2016.0</td>\n",
       "      <td>z</td>\n",
       "      <td>email</td>\n",
       "      <td>True</td>\n",
       "      <td>2014</td>\n",
       "      <td>False</td>\n",
       "      <td>9.0</td>\n",
       "    </tr>\n",
       "    <tr>\n",
       "      <th>423446</th>\n",
       "      <td>0</td>\n",
       "      <td>ADULT</td>\n",
       "      <td>26</td>\n",
       "      <td>0</td>\n",
       "      <td>10 to 19 years</td>\n",
       "      <td>M6</td>\n",
       "      <td>Mission</td>\n",
       "      <td>April</td>\n",
       "      <td>2015.0</td>\n",
       "      <td>z</td>\n",
       "      <td>email</td>\n",
       "      <td>True</td>\n",
       "      <td>2003</td>\n",
       "      <td>False</td>\n",
       "      <td>9.0</td>\n",
       "    </tr>\n",
       "    <tr>\n",
       "      <th>423447</th>\n",
       "      <td>1</td>\n",
       "      <td>JUVENILE</td>\n",
       "      <td>0</td>\n",
       "      <td>0</td>\n",
       "      <td>0 to 9 years</td>\n",
       "      <td>E7</td>\n",
       "      <td>Eureka Valley/Harvey Milk Memorial</td>\n",
       "      <td>NaN</td>\n",
       "      <td>NaN</td>\n",
       "      <td>a</td>\n",
       "      <td>print</td>\n",
       "      <td>False</td>\n",
       "      <td>2015</td>\n",
       "      <td>False</td>\n",
       "      <td>8.0</td>\n",
       "    </tr>\n",
       "  </tbody>\n",
       "</table></div>"
      ],
      "text/plain": [
       "        Patron Type Code Patron Type Definition  Total Checkouts  \\\n",
       "423438                 0                  ADULT                0   \n",
       "423439                 1               JUVENILE                0   \n",
       "423440                 2            YOUNG ADULT               42   \n",
       "423441                 3                 SENIOR             1812   \n",
       "423442                 2            YOUNG ADULT              608   \n",
       "423443                 0                  ADULT              291   \n",
       "423444                 0                  ADULT               15   \n",
       "423445                 5                  STAFF              208   \n",
       "423446                 0                  ADULT               26   \n",
       "423447                 1               JUVENILE                0   \n",
       "\n",
       "        Total Renewals          Age Range Home Library Code  \\\n",
       "423438               0     10 to 19 years                W4   \n",
       "423439               0       0 to 9 years                N4   \n",
       "423440              53     10 to 19 years                M4   \n",
       "423441               0  75 years and over                C2   \n",
       "423442             364     10 to 19 years                S7   \n",
       "423443              13     10 to 19 years                P5   \n",
       "423444              11     60 to 64 years                M8   \n",
       "423445              58       0 to 9 years                B4   \n",
       "423446               0     10 to 19 years                M6   \n",
       "423447               0       0 to 9 years                E7   \n",
       "\n",
       "                   Home Library Definition Circulation Active Month  \\\n",
       "423438                    Western Addition                      NaN   \n",
       "423439              Noe Valley/Sally Brunn                      NaN   \n",
       "423440                              Merced                     June   \n",
       "423441                           Chinatown                     July   \n",
       "423442                              Sunset                     July   \n",
       "423443                             Portola                    March   \n",
       "423444                         Mission Bay                     July   \n",
       "423445                      Bernal Heights                     July   \n",
       "423446                             Mission                    April   \n",
       "423447  Eureka Valley/Harvey Milk Memorial                      NaN   \n",
       "\n",
       "        Circulation Active Year Notice Preference Code  \\\n",
       "423438                      NaN                      z   \n",
       "423439                      NaN                      z   \n",
       "423440                   2014.0                      p   \n",
       "423441                   2016.0                      p   \n",
       "423442                   2016.0                      z   \n",
       "423443                   2015.0                      p   \n",
       "423444                   2016.0                      z   \n",
       "423445                   2016.0                      z   \n",
       "423446                   2015.0                      z   \n",
       "423447                      NaN                      a   \n",
       "\n",
       "       Notice Preference Definition  Provided Email Address  \\\n",
       "423438                        email                    True   \n",
       "423439                        email                    True   \n",
       "423440                        phone                   False   \n",
       "423441                        phone                   False   \n",
       "423442                        email                    True   \n",
       "423443                        phone                   False   \n",
       "423444                        email                    True   \n",
       "423445                        email                    True   \n",
       "423446                        email                    True   \n",
       "423447                        print                   False   \n",
       "\n",
       "        Year Patron Registered  Outside of County  Supervisor District  \n",
       "423438                    2015               True                  NaN  \n",
       "423439                    2015              False                  8.0  \n",
       "423440                    2011               True                  NaN  \n",
       "423441                    2012              False                  3.0  \n",
       "423442                    2003              False                  7.0  \n",
       "423443                    2009              False                  9.0  \n",
       "423444                    2016              False                  6.0  \n",
       "423445                    2014              False                  9.0  \n",
       "423446                    2003              False                  9.0  \n",
       "423447                    2015              False                  8.0  "
      ]
     },
     "execution_count": 2,
     "metadata": {},
     "output_type": "execute_result"
    }
   ],
   "source": [
    "df.tail(10)"
   ]
  },
  {
   "cell_type": "markdown",
   "id": "51288142",
   "metadata": {},
   "source": [
    "### Frage: Wieviele Benutzer sind Kinder (bis 10 Jahre) und wieviele sind Senioren (über 65 Jahre)?"
   ]
  },
  {
   "cell_type": "code",
   "execution_count": 3,
   "id": "c7e91b6c",
   "metadata": {},
   "outputs": [
    {
     "data": {
      "text/plain": [
       "array(['ADULT', 'SENIOR', 'WELCOME', 'TEACHER CARD', 'JUVENILE',\n",
       "       'YOUNG ADULT', 'STAFF', 'DIGITAL ACCESS CARD', 'SPECIAL',\n",
       "       'AT USER ADULT', 'RETIRED STAFF', 'VISITOR', 'BOOKS BY MAIL',\n",
       "       'AT USER SENIOR', 'FRIENDS FOR LIFE', 'AT USER WELCOME',\n",
       "       'AT USER TEEN', 'AT USER JUVENILE'], dtype=object)"
      ]
     },
     "execution_count": 3,
     "metadata": {},
     "output_type": "execute_result"
    }
   ],
   "source": [
    "df['Patron Type Definition'].unique()"
   ]
  },
  {
   "cell_type": "code",
   "execution_count": 4,
   "id": "e994b667",
   "metadata": {},
   "outputs": [
    {
     "data": {
      "text/plain": [
       "array(['20 to 24 years', '25 to 34 years', '45 to 54 years',\n",
       "       '65 to 74 years', '60 to 64 years', '35 to 44 years', nan,\n",
       "       '55 to 59 years', '10 to 19 years', '0 to 9 years',\n",
       "       '75 years and over'], dtype=object)"
      ]
     },
     "execution_count": 4,
     "metadata": {},
     "output_type": "execute_result"
    }
   ],
   "source": [
    "df['Age Range'].unique()"
   ]
  },
  {
   "cell_type": "code",
   "execution_count": 5,
   "id": "3d49a269",
   "metadata": {},
   "outputs": [
    {
     "data": {
      "text/plain": [
       "ADULT                  272251\n",
       "JUVENILE                59208\n",
       "SENIOR                  41619\n",
       "YOUNG ADULT             28816\n",
       "WELCOME                 14931\n",
       "TEACHER CARD             1782\n",
       "DIGITAL ACCESS CARD      1744\n",
       "SPECIAL                   977\n",
       "STAFF                     862\n",
       "VISITOR                   415\n",
       "AT USER ADULT             349\n",
       "RETIRED STAFF             157\n",
       "BOOKS BY MAIL              95\n",
       "AT USER SENIOR             66\n",
       "AT USER JUVENILE           47\n",
       "AT USER WELCOME            45\n",
       "AT USER TEEN               44\n",
       "FRIENDS FOR LIFE           40\n",
       "Name: Patron Type Definition, dtype: int64"
      ]
     },
     "execution_count": 5,
     "metadata": {},
     "output_type": "execute_result"
    }
   ],
   "source": [
    "df['Patron Type Definition'].value_counts()"
   ]
  },
  {
   "cell_type": "code",
   "execution_count": 6,
   "id": "61f7122c",
   "metadata": {},
   "outputs": [
    {
     "data": {
      "text/plain": [
       "<seaborn.axisgrid.FacetGrid at 0x7f9e90713af0>"
      ]
     },
     "execution_count": 6,
     "metadata": {},
     "output_type": "execute_result"
    },
    {
     "data": {
      "image/png": "[encoded data removed]",
      "text/plain": [
       "<Figure size 360x360 with 1 Axes>"
      ]
     },
     "metadata": {},
     "output_type": "display_data"
    }
   ],
   "source": [
    "sns.catplot(x='Patron Type Definition', kind='count', \n",
    "            data=df[(df['Patron Type Definition'] == 'SENIOR')|\n",
    "            (df['Patron Type Definition'] == 'JUVENILE')])"
   ]
  },
  {
   "cell_type": "markdown",
   "id": "38c72de8",
   "metadata": {},
   "source": [
    "#### Es sind 59208 Kinder (0-9 Jahre) und 41619 Senioren registriert."
   ]
  },
  {
   "cell_type": "markdown",
   "id": "ef72dbb0",
   "metadata": {},
   "source": [
    "#### Berechnung Anteil verschiedenen Nutzergruppen an der Gesamtnutzerzahl"
   ]
  },
  {
   "cell_type": "code",
   "execution_count": 7,
   "id": "79a09db9",
   "metadata": {},
   "outputs": [
    {
     "data": {
      "text/plain": [
       "<AxesSubplot:xlabel='Proportion', ylabel='Patron Type Definition'>"
      ]
     },
     "execution_count": 7,
     "metadata": {},
     "output_type": "execute_result"
    },
    {
     "data": {
      "image/png": "[encoded data removed]",
      "text/plain": [
       "<Figure size 432x288 with 1 Axes>"
      ]
     },
     "metadata": {},
     "output_type": "display_data"
    }
   ],
   "source": [
    "sns.histplot(stat='proportion', data = df, y='Patron Type Definition')"
   ]
  },
  {
   "cell_type": "code",
   "execution_count": 8,
   "id": "26def241",
   "metadata": {},
   "outputs": [
    {
     "data": {
      "text/html": [
       "<div><div id=43ea4354-ebdd-4811-80f2-1b5a72db7181 style=\"display:none; background-color:#9D6CFF; color:white; width:200px; height:30px; padding-left:5px; border-radius:4px; flex-direction:row; justify-content:space-around; align-items:center;\" onmouseover=\"this.style.backgroundColor='#BA9BF8'\" onmouseout=\"this.style.backgroundColor='#9D6CFF'\" onclick=\"window.commands?.execute('create-mitosheet-from-dataframe-output');\">See Full Dataframe in Mito</div> <script> if (window.commands.hasCommand('create-mitosheet-from-dataframe-output')) document.getElementById('43ea4354-ebdd-4811-80f2-1b5a72db7181').style.display = 'flex' </script> <table border=\"1\" class=\"dataframe\">\n",
       "  <thead>\n",
       "    <tr style=\"text-align: right;\">\n",
       "      <th>Patron Type Definition</th>\n",
       "      <th>False</th>\n",
       "      <th>True</th>\n",
       "      <th>All</th>\n",
       "    </tr>\n",
       "    <tr>\n",
       "      <th>Patron Type Definition</th>\n",
       "      <th></th>\n",
       "      <th></th>\n",
       "      <th></th>\n",
       "    </tr>\n",
       "  </thead>\n",
       "  <tbody>\n",
       "    <tr>\n",
       "      <th>False</th>\n",
       "      <td>0.761890</td>\n",
       "      <td>0.098286</td>\n",
       "      <td>0.860176</td>\n",
       "    </tr>\n",
       "    <tr>\n",
       "      <th>True</th>\n",
       "      <td>0.139824</td>\n",
       "      <td>0.000000</td>\n",
       "      <td>0.139824</td>\n",
       "    </tr>\n",
       "    <tr>\n",
       "      <th>All</th>\n",
       "      <td>0.901714</td>\n",
       "      <td>0.098286</td>\n",
       "      <td>1.000000</td>\n",
       "    </tr>\n",
       "  </tbody>\n",
       "</table></div>"
      ],
      "text/plain": [
       "Patron Type Definition     False      True       All\n",
       "Patron Type Definition                              \n",
       "False                   0.761890  0.098286  0.860176\n",
       "True                    0.139824  0.000000  0.139824\n",
       "All                     0.901714  0.098286  1.000000"
      ]
     },
     "execution_count": 8,
     "metadata": {},
     "output_type": "execute_result"
    }
   ],
   "source": [
    "pd.crosstab(\n",
    "    [df['Patron Type Definition'] == 'JUVENILE'],\n",
    "    [df['Patron Type Definition'] == 'SENIOR'],\n",
    "    margins=True, normalize=True)"
   ]
  },
  {
   "cell_type": "code",
   "execution_count": 9,
   "id": "5446126c",
   "metadata": {},
   "outputs": [
    {
     "data": {
      "text/plain": [
       "<seaborn.axisgrid.FacetGrid at 0x7f9e8fe803a0>"
      ]
     },
     "execution_count": 9,
     "metadata": {},
     "output_type": "execute_result"
    },
    {
     "data": {
      "image/png": "[encoded data removed]",
      "text/plain": [
       "<Figure size 360x360 with 1 Axes>"
      ]
     },
     "metadata": {},
     "output_type": "display_data"
    }
   ],
   "source": [
    "sns.catplot(x='Age Range', kind='count', data=df[(df['Age Range'] == '0 to 9 years')\n",
    "                                                 |(df['Age Range'] == '65 to 74 years')|\n",
    "                                                   (df['Age Range'] == '75 years and over')])"
   ]
  },
  {
   "cell_type": "code",
   "execution_count": 10,
   "id": "c6bfb968",
   "metadata": {},
   "outputs": [
    {
     "data": {
      "text/plain": [
       "38242"
      ]
     },
     "execution_count": 10,
     "metadata": {},
     "output_type": "execute_result"
    }
   ],
   "source": [
    "(df['Age Range'] == '0 to 9 years').sum()"
   ]
  },
  {
   "cell_type": "code",
   "execution_count": 11,
   "id": "14835ba3",
   "metadata": {},
   "outputs": [
    {
     "data": {
      "text/plain": [
       "41685"
      ]
     },
     "execution_count": 11,
     "metadata": {},
     "output_type": "execute_result"
    }
   ],
   "source": [
    "(df['Patron Type Definition'] == 'SENIOR').sum()+(df['Patron Type Definition'] == 'AT USER SENIOR').sum()"
   ]
  },
  {
   "cell_type": "code",
   "execution_count": 12,
   "id": "81555e82",
   "metadata": {},
   "outputs": [
    {
     "data": {
      "text/plain": [
       "14150"
      ]
     },
     "execution_count": 12,
     "metadata": {},
     "output_type": "execute_result"
    }
   ],
   "source": [
    "(df['Age Range'] == '75 years and over').sum()"
   ]
  },
  {
   "cell_type": "code",
   "execution_count": 13,
   "id": "b42423fc",
   "metadata": {},
   "outputs": [
    {
     "data": {
      "text/plain": [
       "30141"
      ]
     },
     "execution_count": 13,
     "metadata": {},
     "output_type": "execute_result"
    }
   ],
   "source": [
    "(df['Age Range'] == '65 to 74 years').sum()"
   ]
  },
  {
   "cell_type": "code",
   "execution_count": 14,
   "id": "132a4ed1",
   "metadata": {},
   "outputs": [
    {
     "data": {
      "text/plain": [
       "44291"
      ]
     },
     "execution_count": 14,
     "metadata": {},
     "output_type": "execute_result"
    }
   ],
   "source": [
    "(df['Age Range'] == '65 to 74 years').sum() + (df['Age Range'] == '75 years and over').sum()"
   ]
  },
  {
   "cell_type": "code",
   "execution_count": 15,
   "id": "65770c76",
   "metadata": {},
   "outputs": [
    {
     "data": {
      "text/plain": [
       "0         False\n",
       "1         False\n",
       "2         False\n",
       "3         False\n",
       "4         False\n",
       "          ...  \n",
       "423443    False\n",
       "423444    False\n",
       "423445    False\n",
       "423446    False\n",
       "423447    False\n",
       "Name: Patron Type Definition, Length: 423448, dtype: bool"
      ]
     },
     "execution_count": 15,
     "metadata": {},
     "output_type": "execute_result"
    }
   ],
   "source": [
    "df['Patron Type Definition'] == 'SENIOR'"
   ]
  },
  {
   "cell_type": "markdown",
   "id": "d0136513",
   "metadata": {},
   "source": [
    "### Wieviele Benutzer möchten per Email benachrichtig werden?"
   ]
  },
  {
   "cell_type": "code",
   "execution_count": 16,
   "id": "3df7fc96",
   "metadata": {},
   "outputs": [
    {
     "data": {
      "text/plain": [
       "323937"
      ]
     },
     "execution_count": 16,
     "metadata": {},
     "output_type": "execute_result"
    }
   ],
   "source": [
    "len(df.loc[(df['Notice Preference Definition'] == \"email\")])"
   ]
  },
  {
   "cell_type": "markdown",
   "id": "fc9c87ec",
   "metadata": {},
   "source": [
    "#### 323937 Nutzer möchten per Email benachrichtig werden."
   ]
  },
  {
   "cell_type": "markdown",
   "id": "06d39439",
   "metadata": {},
   "source": [
    "### Wie möchten die Gruppe der Senioren bevorzugt benachrichtigt werden?"
   ]
  },
  {
   "cell_type": "markdown",
   "id": "16041221",
   "metadata": {},
   "source": [
    "### Wieviele der Senioren möchten per Email benachrichtigt werden?"
   ]
  },
  {
   "cell_type": "code",
   "execution_count": 17,
   "id": "1caa26af",
   "metadata": {},
   "outputs": [
    {
     "data": {
      "text/html": [
       "<div><div id=9d1d2d69-8cce-4df3-8e1d-33f8a4bb266a style=\"display:none; background-color:#9D6CFF; color:white; width:200px; height:30px; padding-left:5px; border-radius:4px; flex-direction:row; justify-content:space-around; align-items:center;\" onmouseover=\"this.style.backgroundColor='#BA9BF8'\" onmouseout=\"this.style.backgroundColor='#9D6CFF'\" onclick=\"window.commands?.execute('create-mitosheet-from-dataframe-output');\">See Full Dataframe in Mito</div> <script> if (window.commands.hasCommand('create-mitosheet-from-dataframe-output')) document.getElementById('9d1d2d69-8cce-4df3-8e1d-33f8a4bb266a').style.display = 'flex' </script> <table border=\"1\" class=\"dataframe\">\n",
       "  <thead>\n",
       "    <tr style=\"text-align: right;\">\n",
       "      <th>Patron Type Definition</th>\n",
       "      <th>False</th>\n",
       "      <th>True</th>\n",
       "      <th>All</th>\n",
       "    </tr>\n",
       "    <tr>\n",
       "      <th>Notice Preference Definition</th>\n",
       "      <th></th>\n",
       "      <th></th>\n",
       "      <th></th>\n",
       "    </tr>\n",
       "  </thead>\n",
       "  <tbody>\n",
       "    <tr>\n",
       "      <th>email</th>\n",
       "      <td>0.782332</td>\n",
       "      <td>0.605973</td>\n",
       "      <td>0.764998</td>\n",
       "    </tr>\n",
       "    <tr>\n",
       "      <th>none</th>\n",
       "      <td>0.000008</td>\n",
       "      <td>0.000000</td>\n",
       "      <td>0.000007</td>\n",
       "    </tr>\n",
       "    <tr>\n",
       "      <th>phone</th>\n",
       "      <td>0.146924</td>\n",
       "      <td>0.290060</td>\n",
       "      <td>0.160993</td>\n",
       "    </tr>\n",
       "    <tr>\n",
       "      <th>print</th>\n",
       "      <td>0.070736</td>\n",
       "      <td>0.103967</td>\n",
       "      <td>0.074002</td>\n",
       "    </tr>\n",
       "  </tbody>\n",
       "</table></div>"
      ],
      "text/plain": [
       "Patron Type Definition           False      True       All\n",
       "Notice Preference Definition                              \n",
       "email                         0.782332  0.605973  0.764998\n",
       "none                          0.000008  0.000000  0.000007\n",
       "phone                         0.146924  0.290060  0.160993\n",
       "print                         0.070736  0.103967  0.074002"
      ]
     },
     "execution_count": 17,
     "metadata": {},
     "output_type": "execute_result"
    }
   ],
   "source": [
    "pd.crosstab(\n",
    "    df['Notice Preference Definition'],\n",
    "    [df['Patron Type Definition'] == 'SENIOR'],\n",
    "    margins=True, normalize=1)"
   ]
  },
  {
   "cell_type": "markdown",
   "id": "56d57d62",
   "metadata": {},
   "source": [
    "#### 60,6 % der Senioren möchten bevorzugt per Email, 29 % per Telefon und 10 % postalisch benachrichtigt werden."
   ]
  },
  {
   "cell_type": "code",
   "execution_count": 18,
   "id": "20576496",
   "metadata": {},
   "outputs": [
    {
     "data": {
      "text/plain": [
       "<seaborn.axisgrid.FacetGrid at 0x7f9e8fdf3550>"
      ]
     },
     "execution_count": 18,
     "metadata": {},
     "output_type": "execute_result"
    },
    {
     "data": {
      "image/png": "[encoded data removed]",
      "text/plain": [
       "<Figure size 537.175x360 with 1 Axes>"
      ]
     },
     "metadata": {},
     "output_type": "display_data"
    }
   ],
   "source": [
    "sns.catplot(y='Patron Type Definition', hue='Notice Preference Definition', \n",
    "            data=df[df['Patron Type Definition'] == 'SENIOR'], kind='count')"
   ]
  },
  {
   "cell_type": "markdown",
   "id": "353d7761",
   "metadata": {},
   "source": [
    "### Welche Bentzergruppe hat eine Email-Adresse angegeben?"
   ]
  },
  {
   "cell_type": "code",
   "execution_count": 19,
   "id": "dc356980",
   "metadata": {
    "scrolled": true
   },
   "outputs": [
    {
     "data": {
      "text/plain": [
       "<seaborn.axisgrid.FacetGrid at 0x7f9e8fd2e8b0>"
      ]
     },
     "execution_count": 19,
     "metadata": {},
     "output_type": "execute_result"
    },
    {
     "data": {
      "image/png": "[encoded data removed]",
      "text/plain": [
       "<Figure size 510.175x360 with 1 Axes>"
      ]
     },
     "metadata": {},
     "output_type": "display_data"
    }
   ],
   "source": [
    "sns.catplot(y='Age Range', hue='Provided Email Address', \n",
    "            data=df, kind='count')"
   ]
  },
  {
   "cell_type": "markdown",
   "id": "7b87a92b",
   "metadata": {},
   "source": [
    "#### In der Altersgruppe 25 bis 34 Jahren haben die meisten Benutzer eine Emailadresse angegeben. "
   ]
  },
  {
   "cell_type": "code",
   "execution_count": null,
   "id": "6a6fa6a2",
   "metadata": {},
   "outputs": [],
   "source": []
  }
 ],
 "metadata": {
  "kernelspec": {
   "display_name": "Python 3 (ipykernel)",
   "language": "python",
   "name": "python3"
  },
  "language_info": {
   "codemirror_mode": {
    "name": "ipython",
    "version": 3
   },
   "file_extension": ".py",
   "mimetype": "text/x-python",
   "name": "python",
   "nbconvert_exporter": "python",
   "pygments_lexer": "ipython3",
   "version": "3.9.7"
  }
 },
 "nbformat": 4,
 "nbformat_minor": 5
}
