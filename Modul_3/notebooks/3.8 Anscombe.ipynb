{
 "cells": [
  {
   "cell_type": "markdown",
   "id": "a0cb9a80",
   "metadata": {},
   "source": [
    "#### 3.8 Exkurs: Anscombe-Quartett (30 Min)\n",
    "\n",
    "##### Das Anscombe Quartett ist ein Datenstatz, der aus 4 bivariaten Verteilungen besteht. Über die Spaltennamen ['x1', 'y1'], ['x2', 'y2'], ..., ['x4', 'y4'] können die zusammengehörenden Datenpaare ausgewählt werden.\n",
    "\n",
    "##### Lies den Datensatz ein. \n",
    "##### Berechne den Mittelwert, Median und die Standardabweichung der Spalten.\n",
    "##### Berechne jeweils die Korrelation zweier zusammenhängender Spalten [x<i>, y<i>].\n",
    "###### Erstelle jeweils ein Streudiagram zweier zusammenhängender Spalten [x<i>, y<i>].\n",
    "##### Was fällt Dir auf? Informiere Dich über den Datensatz hier."
   ]
  },
  {
   "cell_type": "code",
   "execution_count": 11,
   "id": "ff650d7e",
   "metadata": {},
   "outputs": [
    {
     "data": {
      "text/html": [
       "<div><div id=cf380a51-4e5c-4f6c-86f9-1479b18cb2b8 style=\"display:none; background-color:#9D6CFF; color:white; width:200px; height:30px; padding-left:5px; border-radius:4px; flex-direction:row; justify-content:space-around; align-items:center;\" onmouseover=\"this.style.backgroundColor='#BA9BF8'\" onmouseout=\"this.style.backgroundColor='#9D6CFF'\" onclick=\"window.commands?.execute('create-mitosheet-from-dataframe-output');\">See Full Dataframe in Mito</div> <script> if (window.commands.hasCommand('create-mitosheet-from-dataframe-output')) document.getElementById('cf380a51-4e5c-4f6c-86f9-1479b18cb2b8').style.display = 'flex' </script> <table border=\"1\" class=\"dataframe\">\n",
       "  <thead>\n",
       "    <tr style=\"text-align: right;\">\n",
       "      <th></th>\n",
       "      <th>x1</th>\n",
       "      <th>y1</th>\n",
       "      <th>x2</th>\n",
       "      <th>y2</th>\n",
       "      <th>x3</th>\n",
       "      <th>y3</th>\n",
       "      <th>x4</th>\n",
       "      <th>y4</th>\n",
       "    </tr>\n",
       "  </thead>\n",
       "  <tbody>\n",
       "    <tr>\n",
       "      <th>0</th>\n",
       "      <td>10</td>\n",
       "      <td>8.04</td>\n",
       "      <td>10</td>\n",
       "      <td>9.14</td>\n",
       "      <td>10</td>\n",
       "      <td>7.46</td>\n",
       "      <td>8</td>\n",
       "      <td>6.58</td>\n",
       "    </tr>\n",
       "    <tr>\n",
       "      <th>1</th>\n",
       "      <td>8</td>\n",
       "      <td>6.95</td>\n",
       "      <td>8</td>\n",
       "      <td>8.14</td>\n",
       "      <td>8</td>\n",
       "      <td>6.77</td>\n",
       "      <td>8</td>\n",
       "      <td>5.76</td>\n",
       "    </tr>\n",
       "    <tr>\n",
       "      <th>2</th>\n",
       "      <td>13</td>\n",
       "      <td>7.58</td>\n",
       "      <td>13</td>\n",
       "      <td>8.74</td>\n",
       "      <td>13</td>\n",
       "      <td>12.74</td>\n",
       "      <td>8</td>\n",
       "      <td>7.71</td>\n",
       "    </tr>\n",
       "    <tr>\n",
       "      <th>3</th>\n",
       "      <td>9</td>\n",
       "      <td>8.81</td>\n",
       "      <td>9</td>\n",
       "      <td>8.77</td>\n",
       "      <td>9</td>\n",
       "      <td>7.11</td>\n",
       "      <td>8</td>\n",
       "      <td>8.84</td>\n",
       "    </tr>\n",
       "    <tr>\n",
       "      <th>4</th>\n",
       "      <td>11</td>\n",
       "      <td>8.33</td>\n",
       "      <td>11</td>\n",
       "      <td>9.26</td>\n",
       "      <td>11</td>\n",
       "      <td>7.81</td>\n",
       "      <td>8</td>\n",
       "      <td>8.47</td>\n",
       "    </tr>\n",
       "  </tbody>\n",
       "</table></div>"
      ],
      "text/plain": [
       "   x1    y1  x2    y2  x3     y3  x4    y4\n",
       "0  10  8.04  10  9.14  10   7.46   8  6.58\n",
       "1   8  6.95   8  8.14   8   6.77   8  5.76\n",
       "2  13  7.58  13  8.74  13  12.74   8  7.71\n",
       "3   9  8.81   9  8.77   9   7.11   8  8.84\n",
       "4  11  8.33  11  9.26  11   7.81   8  8.47"
      ]
     },
     "execution_count": 11,
     "metadata": {},
     "output_type": "execute_result"
    }
   ],
   "source": [
    "import pandas as pd\n",
    "import seaborn as sns\n",
    "import matplotlib.pyplot as plt\n",
    "sns.set()\n",
    "df = pd.read_csv(\"/home/katrin/2021-11-29-DL_Katrin_Gaertner/Modul_3/data/anscombe.csv\", na_values=\"None\")\n",
    "df.head()"
   ]
  },
  {
   "cell_type": "code",
   "execution_count": 12,
   "id": "e4574229",
   "metadata": {},
   "outputs": [
    {
     "data": {
      "text/plain": [
       "x1    9.000000\n",
       "y1    7.500909\n",
       "x2    9.000000\n",
       "y2    7.500909\n",
       "x3    9.000000\n",
       "y3    7.500000\n",
       "x4    9.000000\n",
       "y4    7.500909\n",
       "dtype: float64"
      ]
     },
     "execution_count": 12,
     "metadata": {},
     "output_type": "execute_result"
    }
   ],
   "source": [
    "df.mean()"
   ]
  },
  {
   "cell_type": "code",
   "execution_count": 13,
   "id": "9d6a2c62",
   "metadata": {},
   "outputs": [
    {
     "data": {
      "text/plain": [
       "x1    9.00\n",
       "y1    7.58\n",
       "x2    9.00\n",
       "y2    8.14\n",
       "x3    9.00\n",
       "y3    7.11\n",
       "x4    8.00\n",
       "y4    7.04\n",
       "dtype: float64"
      ]
     },
     "execution_count": 13,
     "metadata": {},
     "output_type": "execute_result"
    }
   ],
   "source": [
    "df.median()"
   ]
  },
  {
   "cell_type": "code",
   "execution_count": 14,
   "id": "3e4f25cf",
   "metadata": {},
   "outputs": [
    {
     "data": {
      "text/plain": [
       "x1    11.000000\n",
       "y1     4.127269\n",
       "x2    11.000000\n",
       "y2     4.127629\n",
       "x3    11.000000\n",
       "y3     4.122620\n",
       "x4    11.000000\n",
       "y4     4.123249\n",
       "dtype: float64"
      ]
     },
     "execution_count": 14,
     "metadata": {},
     "output_type": "execute_result"
    }
   ],
   "source": [
    "df.var()"
   ]
  },
  {
   "cell_type": "code",
   "execution_count": 15,
   "id": "2c236b46",
   "metadata": {},
   "outputs": [
    {
     "data": {
      "text/plain": [
       "x1    3.316625\n",
       "y1    2.031568\n",
       "x2    3.316625\n",
       "y2    2.031657\n",
       "x3    3.316625\n",
       "y3    2.030424\n",
       "x4    3.316625\n",
       "y4    2.030579\n",
       "dtype: float64"
      ]
     },
     "execution_count": 15,
     "metadata": {},
     "output_type": "execute_result"
    }
   ],
   "source": [
    "df.std()"
   ]
  },
  {
   "cell_type": "code",
   "execution_count": 24,
   "id": "5a0cc96a",
   "metadata": {},
   "outputs": [
    {
     "data": {
      "text/plain": [
       "0.81642051634484"
      ]
     },
     "execution_count": 24,
     "metadata": {},
     "output_type": "execute_result"
    }
   ],
   "source": [
    "df['x1'].corr(df['y1'])"
   ]
  },
  {
   "cell_type": "code",
   "execution_count": 25,
   "id": "1ccff2fd",
   "metadata": {},
   "outputs": [
    {
     "data": {
      "text/plain": [
       "<AxesSubplot:xlabel='x4', ylabel='y4'>"
      ]
     },
     "execution_count": 25,
     "metadata": {},
     "output_type": "execute_result"
    },
    {
     "data": {
      "image/png": "[encoded data removed]",
      "text/plain": [
       "<Figure size 432x288 with 1 Axes>"
      ]
     },
     "metadata": {},
     "output_type": "display_data"
    },
    {
     "data": {
      "image/png": "[encoded data removed]",
      "text/plain": [
       "<Figure size 432x288 with 1 Axes>"
      ]
     },
     "metadata": {},
     "output_type": "display_data"
    },
    {
     "data": {
      "image/png": "[encoded data removed]",
      "text/plain": [
       "<Figure size 432x288 with 1 Axes>"
      ]
     },
     "metadata": {},
     "output_type": "display_data"
    },
    {
     "data": {
      "image/png": "[encoded data removed]",
      "text/plain": [
       "<Figure size 432x288 with 1 Axes>"
      ]
     },
     "metadata": {},
     "output_type": "display_data"
    }
   ],
   "source": [
    "df.plot.scatter(x='x1',y='y1', color='red')\n",
    "df.plot.scatter(x='x2',y='y2', color='green')\n",
    "df.plot.scatter(x='x3',y='y3', color='blue')\n",
    "df.plot.scatter(x='x4',y='y4', color='orange')"
   ]
  },
  {
   "cell_type": "code",
   "execution_count": null,
   "id": "9f67b132",
   "metadata": {},
   "outputs": [],
   "source": []
  }
 ],
 "metadata": {
  "kernelspec": {
   "display_name": "Python 3 (ipykernel)",
   "language": "python",
   "name": "python3"
  },
  "language_info": {
   "codemirror_mode": {
    "name": "ipython",
    "version": 3
   },
   "file_extension": ".py",
   "mimetype": "text/x-python",
   "name": "python",
   "nbconvert_exporter": "python",
   "pygments_lexer": "ipython3",
   "version": "3.9.7"
  }
 },
 "nbformat": 4,
 "nbformat_minor": 5
}
