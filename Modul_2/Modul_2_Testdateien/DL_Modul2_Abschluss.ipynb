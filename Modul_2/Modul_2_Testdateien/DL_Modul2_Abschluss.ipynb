{
 "cells": [
  {
   "cell_type": "code",
   "execution_count": 1,
   "id": "125f4af1",
   "metadata": {},
   "outputs": [],
   "source": [
    "import json\n",
    "import urllib\n",
    "import requests\n",
    "import pandas as pd\n",
    "import urllib.request as req"
   ]
  },
  {
   "cell_type": "code",
   "execution_count": 2,
   "id": "63e0f9ea",
   "metadata": {},
   "outputs": [],
   "source": [
    "url = \"https://www.bibsonomy.org/json/search/linked%20data\"\n",
    "url2 = \"https://www.bibsonomy.org/json/search/open%20data\""
   ]
  },
  {
   "cell_type": "code",
   "execution_count": 7,
   "id": "ea839134",
   "metadata": {},
   "outputs": [],
   "source": [
    "f = urllib.request.urlopen(url)\n",
    "result =  f.read().decode('utf-8')"
   ]
  },
  {
   "cell_type": "code",
   "execution_count": 8,
   "id": "e5dc228a",
   "metadata": {},
   "outputs": [],
   "source": [
    "f2 = urllib.request.urlopen(url2)\n",
    "result2 =  f2.read().decode('utf-8')"
   ]
  },
  {
   "cell_type": "code",
   "execution_count": 9,
   "id": "8b55bfcd",
   "metadata": {},
   "outputs": [],
   "source": [
    "data = json.loads(result)\n",
    "data2 = json.loads(result2)"
   ]
  },
  {
   "cell_type": "code",
   "execution_count": null,
   "id": "5450eb85",
   "metadata": {},
   "outputs": [],
   "source": []
  },
  {
   "cell_type": "code",
   "execution_count": null,
   "id": "7f636b32",
   "metadata": {},
   "outputs": [],
   "source": []
  }
 ],
 "metadata": {
  "kernelspec": {
   "display_name": "Python 3 (ipykernel)",
   "language": "python",
   "name": "python3"
  },
  "language_info": {
   "codemirror_mode": {
    "name": "ipython",
    "version": 3
   },
   "file_extension": ".py",
   "mimetype": "text/x-python",
   "name": "python",
   "nbconvert_exporter": "python",
   "pygments_lexer": "ipython3",
   "version": "3.9.7"
  }
 },
 "nbformat": 4,
 "nbformat_minor": 5
}
