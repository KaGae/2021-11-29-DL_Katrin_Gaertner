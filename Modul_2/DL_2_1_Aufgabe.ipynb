{
 "cells": [
  {
   "cell_type": "code",
   "execution_count": null,
   "id": "040655fc",
   "metadata": {},
   "outputs": [],
   "source": [
    "import json"
   ]
  },
  {
   "cell_type": "code",
   "execution_count": null,
   "id": "1ab9ce02",
   "metadata": {},
   "outputs": [],
   "source": [
    "from pprint import pprint # Importieren des PrityPrint Moduls"
   ]
  },
  {
   "cell_type": "code",
   "execution_count": null,
   "id": "7714f348",
   "metadata": {},
   "outputs": [],
   "source": [
    "url = \"https://www.bibsonomy.org/json/search/Christentum?items=1000&duplicates=merged\""
   ]
  },
  {
   "cell_type": "code",
   "execution_count": null,
   "id": "e50eba85",
   "metadata": {},
   "outputs": [],
   "source": [
    "import requests\n",
    "result = requests.get(url) \n",
    "data = result.json()"
   ]
  },
  {
   "cell_type": "code",
   "execution_count": null,
   "id": "623e40b9",
   "metadata": {},
   "outputs": [],
   "source": [
    "edited_items = []\n",
    "\n",
    "# Auswahl der Informationen, die ausgewählt werden sollen:\n",
    "\n",
    "desired_entries = ['type', 'year', 'publisher', 'author', 'authors','label', 'url', 'tags', 'doi', 'abstract']"
   ]
  },
  {
   "cell_type": "code",
   "execution_count": null,
   "id": "bc86dc6f",
   "metadata": {},
   "outputs": [],
   "source": [
    "pprint(edited_items) #Ausgabe der Liste in schön"
   ]
  },
  {
   "cell_type": "code",
   "execution_count": null,
   "id": "894bbc6d",
   "metadata": {},
   "outputs": [],
   "source": [
    "print(edited_items[0].keys()) # Anzeigen der Keys in der Liste items im Dict edided_items"
   ]
  },
  {
   "cell_type": "code",
   "execution_count": null,
   "id": "90a242fe",
   "metadata": {},
   "outputs": [],
   "source": [
    "# Umwandeln der JSON-Datei in XML-Syntax und speichern unter dem Namen bibsonomy.xml\n",
    "with open(\"bibsonomy.xml\", \"w\") as xml:    \n",
    "    print(\"<?xml version=\\\"1.0\\\" encoding=\\\"UTF-8\\\"?>\", file=xml)\n",
    "    print(\"<publications>\", file=xml)\n",
    "    for item in edited_items:\n",
    "        print(\"\\t<publication>\", file=xml)\n",
    "        for key in item.keys():\n",
    "            print(\"\\t\\t\"+\"<\"+str(key)+\">\"+str(item[key])+\"</\"+str(key)+\">\", file=xml)\n",
    "        print(\"\\t</publication>\", file=xml)\n",
    "    print(\"</publications>\\n\", file=xml)         \n",
    "    "
   ]
  },
  {
   "cell_type": "code",
   "execution_count": null,
   "id": "a3baad40",
   "metadata": {},
   "outputs": [],
   "source": [
    "json_content = json.dumps(edited_items, indent=4) # Schönmachen der JSON-Datei - richtiges JSON-Format\n",
    "#print(json_content)"
   ]
  },
  {
   "cell_type": "code",
   "execution_count": null,
   "id": "4b739c52",
   "metadata": {},
   "outputs": [],
   "source": [
    "with open('bibsonomy_to_solr.json','w') as outfile:\n",
    "    json.dump(edited_items, outfile, indent=4) # Speichern der Datei im JSON-Format unter bibsonomy_to_solr.json"
   ]
  }
 ],
 "metadata": {
  "kernelspec": {
   "display_name": "Python 3 (ipykernel)",
   "language": "python",
   "name": "python3"
  },
  "language_info": {
   "codemirror_mode": {
    "name": "ipython",
    "version": 3
   },
   "file_extension": ".py",
   "mimetype": "text/x-python",
   "name": "python",
   "nbconvert_exporter": "python",
   "pygments_lexer": "ipython3",
   "version": "3.9.7"
  }
 },
 "nbformat": 4,
 "nbformat_minor": 5
}
