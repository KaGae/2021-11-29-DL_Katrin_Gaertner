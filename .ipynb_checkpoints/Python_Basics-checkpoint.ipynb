{
 "cells": [
  {
   "cell_type": "markdown",
   "id": "065c40ba",
   "metadata": {},
   "source": [
    "# Python Einführung\n",
    "\n",
    "- Stichpunkte\n",
    "- **fett** *kursiv*"
   ]
  },
  {
   "cell_type": "code",
   "execution_count": 1,
   "id": "4493c7e5",
   "metadata": {},
   "outputs": [
    {
     "name": "stdout",
     "output_type": "stream",
     "text": [
      "Hello world\n"
     ]
    }
   ],
   "source": [
    "print(\"Hello world\")"
   ]
  },
  {
   "cell_type": "markdown",
   "id": "aaf9eda5",
   "metadata": {},
   "source": [
    "# Einfache Datentypen"
   ]
  },
  {
   "cell_type": "code",
   "execution_count": 7,
   "id": "5711f2bc",
   "metadata": {},
   "outputs": [],
   "source": [
    "# Variablen & Wertezuweisen\n",
    "# String - Zeichenkette\n",
    "name = \"Lovelace\""
   ]
  },
  {
   "cell_type": "code",
   "execution_count": 5,
   "id": "975c29a1",
   "metadata": {},
   "outputs": [
    {
     "name": "stdout",
     "output_type": "stream",
     "text": [
      "Lovelace\n"
     ]
    }
   ],
   "source": [
    "print(name)"
   ]
  },
  {
   "cell_type": "code",
   "execution_count": 9,
   "id": "f39aa082",
   "metadata": {},
   "outputs": [
    {
     "name": "stdout",
     "output_type": "stream",
     "text": [
      "37\n"
     ]
    }
   ],
   "source": [
    "# Integer - Ganzzahl\n",
    "age = 37\n",
    "print (age)"
   ]
  },
  {
   "cell_type": "code",
   "execution_count": 10,
   "id": "a9202f98",
   "metadata": {},
   "outputs": [
    {
     "name": "stdout",
     "output_type": "stream",
     "text": [
      "1.7123\n"
     ]
    }
   ],
   "source": [
    "# Float\n",
    "size = 1.7123\n",
    "print (size)"
   ]
  },
  {
   "cell_type": "code",
   "execution_count": 11,
   "id": "145ea805",
   "metadata": {},
   "outputs": [
    {
     "name": "stdout",
     "output_type": "stream",
     "text": [
      "True\n",
      "False\n"
     ]
    }
   ],
   "source": [
    "# Boolean - Boolscher Wert\n",
    "# True or False\n",
    "knows_math = True\n",
    "print (knows_math)\n",
    "likes_gardening = False\n",
    "print (likes_gardening)"
   ]
  },
  {
   "cell_type": "code",
   "execution_count": 14,
   "id": "33767141",
   "metadata": {},
   "outputs": [
    {
     "name": "stdout",
     "output_type": "stream",
     "text": [
      "Lovelace\n",
      "37\n"
     ]
    }
   ],
   "source": [
    "print (name)\n",
    "print (age)"
   ]
  },
  {
   "cell_type": "code",
   "execution_count": 18,
   "id": "9f7d7af8",
   "metadata": {},
   "outputs": [
    {
     "data": {
      "text/plain": [
       "str"
      ]
     },
     "execution_count": 18,
     "metadata": {},
     "output_type": "execute_result"
    }
   ],
   "source": [
    "# Typen anzeigen lassen\n",
    "type (year)"
   ]
  },
  {
   "cell_type": "code",
   "execution_count": 19,
   "id": "89d138ae",
   "metadata": {},
   "outputs": [],
   "source": [
    "year = \"2021\""
   ]
  },
  {
   "cell_type": "markdown",
   "id": "23aa1f5b",
   "metadata": {},
   "source": [
    "# Operatoren"
   ]
  },
  {
   "cell_type": "code",
   "execution_count": 20,
   "id": "a5ad9f17",
   "metadata": {},
   "outputs": [
    {
     "data": {
      "text/plain": [
       "10"
      ]
     },
     "execution_count": 20,
     "metadata": {},
     "output_type": "execute_result"
    }
   ],
   "source": [
    "5 + 5"
   ]
  },
  {
   "cell_type": "code",
   "execution_count": 21,
   "id": "882d7e3e",
   "metadata": {},
   "outputs": [
    {
     "data": {
      "text/plain": [
       "3700"
      ]
     },
     "execution_count": 21,
     "metadata": {},
     "output_type": "execute_result"
    }
   ],
   "source": [
    "age * 100"
   ]
  },
  {
   "cell_type": "code",
   "execution_count": 22,
   "id": "ce9ff9d2",
   "metadata": {},
   "outputs": [
    {
     "data": {
      "text/plain": [
       "'LovelaceLovelace'"
      ]
     },
     "execution_count": 22,
     "metadata": {},
     "output_type": "execute_result"
    }
   ],
   "source": [
    "name + name"
   ]
  },
  {
   "cell_type": "code",
   "execution_count": 23,
   "id": "8bc9d7d6",
   "metadata": {},
   "outputs": [
    {
     "data": {
      "text/plain": [
       "'LovelaceLovelaceLovelaceLovelaceLovelaceLovelaceLovelaceLovelaceLovelaceLovelace'"
      ]
     },
     "execution_count": 23,
     "metadata": {},
     "output_type": "execute_result"
    }
   ],
   "source": [
    "name * 10"
   ]
  },
  {
   "cell_type": "code",
   "execution_count": 24,
   "id": "dc06c159",
   "metadata": {},
   "outputs": [
    {
     "ename": "TypeError",
     "evalue": "can only concatenate str (not \"int\") to str",
     "output_type": "error",
     "traceback": [
      "\u001b[0;31m---------------------------------------------------------------------------\u001b[0m",
      "\u001b[0;31mTypeError\u001b[0m                                 Traceback (most recent call last)",
      "\u001b[0;32m/tmp/ipykernel_44207/3004308386.py\u001b[0m in \u001b[0;36m<module>\u001b[0;34m\u001b[0m\n\u001b[0;32m----> 1\u001b[0;31m \u001b[0mname\u001b[0m \u001b[0;34m+\u001b[0m \u001b[0;36m10\u001b[0m\u001b[0;34m\u001b[0m\u001b[0;34m\u001b[0m\u001b[0m\n\u001b[0m",
      "\u001b[0;31mTypeError\u001b[0m: can only concatenate str (not \"int\") to str"
     ]
    }
   ],
   "source": [
    "name + 10"
   ]
  },
  {
   "cell_type": "code",
   "execution_count": 25,
   "id": "0520db44",
   "metadata": {},
   "outputs": [
    {
     "data": {
      "text/plain": [
       "'Lovelace10'"
      ]
     },
     "execution_count": 25,
     "metadata": {},
     "output_type": "execute_result"
    }
   ],
   "source": [
    "name + \"10\""
   ]
  },
  {
   "cell_type": "code",
   "execution_count": 26,
   "id": "c398fc8f",
   "metadata": {},
   "outputs": [
    {
     "data": {
      "text/plain": [
       "0.04627837837837838"
      ]
     },
     "execution_count": 26,
     "metadata": {},
     "output_type": "execute_result"
    }
   ],
   "source": [
    "size / age"
   ]
  },
  {
   "cell_type": "code",
   "execution_count": 27,
   "id": "07d6b9e4",
   "metadata": {},
   "outputs": [],
   "source": [
    "number_of_articles = \"50\""
   ]
  },
  {
   "cell_type": "code",
   "execution_count": 28,
   "id": "f9d31314",
   "metadata": {},
   "outputs": [
    {
     "ename": "TypeError",
     "evalue": "unsupported operand type(s) for /: 'str' and 'int'",
     "output_type": "error",
     "traceback": [
      "\u001b[0;31m---------------------------------------------------------------------------\u001b[0m",
      "\u001b[0;31mTypeError\u001b[0m                                 Traceback (most recent call last)",
      "\u001b[0;32m/tmp/ipykernel_44207/296469042.py\u001b[0m in \u001b[0;36m<module>\u001b[0;34m\u001b[0m\n\u001b[0;32m----> 1\u001b[0;31m \u001b[0mnumber_of_articles\u001b[0m \u001b[0;34m/\u001b[0m \u001b[0;36m10\u001b[0m\u001b[0;34m\u001b[0m\u001b[0;34m\u001b[0m\u001b[0m\n\u001b[0m",
      "\u001b[0;31mTypeError\u001b[0m: unsupported operand type(s) for /: 'str' and 'int'"
     ]
    }
   ],
   "source": [
    "number_of_articles / 10"
   ]
  },
  {
   "cell_type": "code",
   "execution_count": 29,
   "id": "7f179f74",
   "metadata": {},
   "outputs": [
    {
     "data": {
      "text/plain": [
       "5.0"
      ]
     },
     "execution_count": 29,
     "metadata": {},
     "output_type": "execute_result"
    }
   ],
   "source": [
    "int (number_of_articles) / 10\n",
    "# Wert in der Variable wird in Zahl gewandelt"
   ]
  },
  {
   "cell_type": "markdown",
   "id": "9b48a5ae",
   "metadata": {},
   "source": [
    "# Funktionen und Methoden"
   ]
  },
  {
   "cell_type": "code",
   "execution_count": 30,
   "id": "5a78ac09",
   "metadata": {},
   "outputs": [
    {
     "data": {
      "text/plain": [
       "8"
      ]
     },
     "execution_count": 30,
     "metadata": {},
     "output_type": "execute_result"
    }
   ],
   "source": [
    "len (name)"
   ]
  },
  {
   "cell_type": "code",
   "execution_count": 31,
   "id": "012d8e40",
   "metadata": {},
   "outputs": [
    {
     "data": {
      "text/plain": [
       "'LOVELACE'"
      ]
     },
     "execution_count": 31,
     "metadata": {},
     "output_type": "execute_result"
    }
   ],
   "source": [
    "name.upper()"
   ]
  },
  {
   "cell_type": "code",
   "execution_count": 32,
   "id": "28b89493",
   "metadata": {},
   "outputs": [
    {
     "data": {
      "text/plain": [
       "2"
      ]
     },
     "execution_count": 32,
     "metadata": {},
     "output_type": "execute_result"
    }
   ],
   "source": [
    "name.count(\"e\")"
   ]
  },
  {
   "cell_type": "code",
   "execution_count": 33,
   "id": "a030c98d",
   "metadata": {},
   "outputs": [],
   "source": [
    "dna = \"ACTGgGCAA\""
   ]
  },
  {
   "cell_type": "code",
   "execution_count": 34,
   "id": "43116ef1",
   "metadata": {},
   "outputs": [
    {
     "data": {
      "text/plain": [
       "2"
      ]
     },
     "execution_count": 34,
     "metadata": {},
     "output_type": "execute_result"
    }
   ],
   "source": [
    "dna.count (\"G\")"
   ]
  },
  {
   "cell_type": "code",
   "execution_count": 35,
   "id": "e894a702",
   "metadata": {},
   "outputs": [
    {
     "data": {
      "text/plain": [
       "3"
      ]
     },
     "execution_count": 35,
     "metadata": {},
     "output_type": "execute_result"
    }
   ],
   "source": [
    "dna.upper().count(\"G\")"
   ]
  },
  {
   "cell_type": "code",
   "execution_count": 37,
   "id": "9bd7026e",
   "metadata": {},
   "outputs": [
    {
     "data": {
      "text/plain": [
       "'Love is everywhere'"
      ]
     },
     "execution_count": 37,
     "metadata": {},
     "output_type": "execute_result"
    }
   ],
   "source": [
    "name.replace(\"lace\", \" is everywhere\")"
   ]
  },
  {
   "cell_type": "markdown",
   "id": "b6db1faa",
   "metadata": {},
   "source": [
    "# Listen und Dictionaries"
   ]
  },
  {
   "cell_type": "code",
   "execution_count": 38,
   "id": "a79c6491",
   "metadata": {},
   "outputs": [],
   "source": [
    "names = [\"Lovelace\", \"Darwin\", \"Curie\", \"Hawking\"]"
   ]
  },
  {
   "cell_type": "code",
   "execution_count": 39,
   "id": "65294ef6",
   "metadata": {},
   "outputs": [
    {
     "data": {
      "text/plain": [
       "'Lovelace'"
      ]
     },
     "execution_count": 39,
     "metadata": {},
     "output_type": "execute_result"
    }
   ],
   "source": [
    "names[0]"
   ]
  },
  {
   "cell_type": "code",
   "execution_count": 40,
   "id": "77d0607a",
   "metadata": {},
   "outputs": [
    {
     "data": {
      "text/plain": [
       "'Darwin'"
      ]
     },
     "execution_count": 40,
     "metadata": {},
     "output_type": "execute_result"
    }
   ],
   "source": [
    "names[1]"
   ]
  },
  {
   "cell_type": "code",
   "execution_count": 41,
   "id": "ccc5bd6e",
   "metadata": {},
   "outputs": [
    {
     "data": {
      "text/plain": [
       "'Hawking'"
      ]
     },
     "execution_count": 41,
     "metadata": {},
     "output_type": "execute_result"
    }
   ],
   "source": [
    "names[-1]"
   ]
  },
  {
   "cell_type": "code",
   "execution_count": 42,
   "id": "28926f92",
   "metadata": {},
   "outputs": [
    {
     "data": {
      "text/plain": [
       "['Lovelace', 'Darwin', 'Curie']"
      ]
     },
     "execution_count": 42,
     "metadata": {},
     "output_type": "execute_result"
    }
   ],
   "source": [
    "names[0:3]"
   ]
  },
  {
   "cell_type": "code",
   "execution_count": 43,
   "id": "c4938df3",
   "metadata": {},
   "outputs": [
    {
     "data": {
      "text/plain": [
       "['Lovelace', 'Darwin']"
      ]
     },
     "execution_count": 43,
     "metadata": {},
     "output_type": "execute_result"
    }
   ],
   "source": [
    "names[:2]"
   ]
  },
  {
   "cell_type": "code",
   "execution_count": 44,
   "id": "4e4766ee",
   "metadata": {},
   "outputs": [
    {
     "data": {
      "text/plain": [
       "['Curie', 'Hawking']"
      ]
     },
     "execution_count": 44,
     "metadata": {},
     "output_type": "execute_result"
    }
   ],
   "source": [
    "names[2:]"
   ]
  },
  {
   "cell_type": "code",
   "execution_count": 45,
   "id": "20c3c9c4",
   "metadata": {},
   "outputs": [],
   "source": [
    "authors_and_birth_year = {\"Lovelace\": 1815, \n",
    "                          \"Darwin\": 1809, \n",
    "                          \"Noether\": 1882,\n",
    "                         \"Hawking\": 1942}"
   ]
  },
  {
   "cell_type": "code",
   "execution_count": 46,
   "id": "c9311169",
   "metadata": {},
   "outputs": [
    {
     "data": {
      "text/plain": [
       "1815"
      ]
     },
     "execution_count": 46,
     "metadata": {},
     "output_type": "execute_result"
    }
   ],
   "source": [
    "authors_and_birth_year[\"Lovelace\"]"
   ]
  },
  {
   "cell_type": "code",
   "execution_count": 47,
   "id": "5b75aceb",
   "metadata": {},
   "outputs": [
    {
     "ename": "KeyError",
     "evalue": "'LOVEleace'",
     "output_type": "error",
     "traceback": [
      "\u001b[0;31m---------------------------------------------------------------------------\u001b[0m",
      "\u001b[0;31mKeyError\u001b[0m                                  Traceback (most recent call last)",
      "\u001b[0;32m/tmp/ipykernel_44207/4291194730.py\u001b[0m in \u001b[0;36m<module>\u001b[0;34m\u001b[0m\n\u001b[0;32m----> 1\u001b[0;31m \u001b[0mauthors_and_birth_year\u001b[0m\u001b[0;34m[\u001b[0m\u001b[0;34m\"LOVEleace\"\u001b[0m\u001b[0;34m]\u001b[0m\u001b[0;34m\u001b[0m\u001b[0;34m\u001b[0m\u001b[0m\n\u001b[0m",
      "\u001b[0;31mKeyError\u001b[0m: 'LOVEleace'"
     ]
    }
   ],
   "source": [
    "authors_and_birth_year[\"LOVEleace\"]"
   ]
  },
  {
   "cell_type": "code",
   "execution_count": 49,
   "id": "6d170b88",
   "metadata": {},
   "outputs": [],
   "source": [
    "authors_and_birth_year = {\"Lovelace\": 1815, \n",
    "                          \"Darwin\": [1809, 1810], \n",
    "                          \"Noether\": 1882,\n",
    "                         \"Hawking\": 1942}"
   ]
  },
  {
   "cell_type": "code",
   "execution_count": 50,
   "id": "814b3afe",
   "metadata": {},
   "outputs": [
    {
     "data": {
      "text/plain": [
       "[1809, 1810]"
      ]
     },
     "execution_count": 50,
     "metadata": {},
     "output_type": "execute_result"
    }
   ],
   "source": [
    "authors_and_birth_year[\"Darwin\"]"
   ]
  },
  {
   "cell_type": "code",
   "execution_count": 51,
   "id": "d635db8d",
   "metadata": {},
   "outputs": [
    {
     "data": {
      "text/plain": [
       "1810"
      ]
     },
     "execution_count": 51,
     "metadata": {},
     "output_type": "execute_result"
    }
   ],
   "source": [
    "authors_and_birth_year[\"Darwin\"][1]"
   ]
  },
  {
   "cell_type": "code",
   "execution_count": 52,
   "id": "bc98d442",
   "metadata": {},
   "outputs": [],
   "source": [
    "authors_and_birth_year = {\"Lovelace\": 1815, \n",
    "                          \"Darwin\": [1809, 1810,{\"London\": 1910, \"Greenwich\": 1911}],\n",
    "                          \"Noether\": 1882,\n",
    "                         \"Hawking\": 1942}"
   ]
  },
  {
   "cell_type": "code",
   "execution_count": 53,
   "id": "c253a00a",
   "metadata": {},
   "outputs": [
    {
     "data": {
      "text/plain": [
       "1910"
      ]
     },
     "execution_count": 53,
     "metadata": {},
     "output_type": "execute_result"
    }
   ],
   "source": [
    "authors_and_birth_year[\"Darwin\"][2][\"London\"]"
   ]
  },
  {
   "cell_type": "markdown",
   "id": "7adcf26d",
   "metadata": {},
   "source": [
    "# For-Schleifen"
   ]
  },
  {
   "cell_type": "code",
   "execution_count": 54,
   "id": "f4f2da2f",
   "metadata": {},
   "outputs": [],
   "source": [
    "names = [\"Lovelace\", \"Darwin\", \"Curie\", \"Hawking\"]"
   ]
  },
  {
   "cell_type": "code",
   "execution_count": 55,
   "id": "aff9a5bb",
   "metadata": {},
   "outputs": [
    {
     "name": "stdout",
     "output_type": "stream",
     "text": [
      "Lovelace did awesome stuff!\n",
      "Darwin did awesome stuff!\n",
      "Curie did awesome stuff!\n",
      "Hawking did awesome stuff!\n"
     ]
    }
   ],
   "source": [
    "for person in names: \n",
    "    print(person + \" did awesome stuff!\")"
   ]
  },
  {
   "cell_type": "code",
   "execution_count": 58,
   "id": "24a5ddb7",
   "metadata": {},
   "outputs": [
    {
     "name": "stdout",
     "output_type": "stream",
     "text": [
      "Lovelace did awesome stuff!\n",
      "--------\n",
      "Darwin did awesome stuff!\n",
      "--------\n",
      "Curie did awesome stuff!\n",
      "--------\n",
      "Hawking did awesome stuff!\n",
      "--------\n"
     ]
    }
   ],
   "source": [
    "for person in names: \n",
    "    print(person + \" did awesome stuff!\")\n",
    "    print (\"--------\")"
   ]
  },
  {
   "cell_type": "code",
   "execution_count": 59,
   "id": "c460d26b",
   "metadata": {},
   "outputs": [
    {
     "name": "stdout",
     "output_type": "stream",
     "text": [
      "The Zen of Python, by Tim Peters\n",
      "\n",
      "Beautiful is better than ugly.\n",
      "Explicit is better than implicit.\n",
      "Simple is better than complex.\n",
      "Complex is better than complicated.\n",
      "Flat is better than nested.\n",
      "Sparse is better than dense.\n",
      "Readability counts.\n",
      "Special cases aren't special enough to break the rules.\n",
      "Although practicality beats purity.\n",
      "Errors should never pass silently.\n",
      "Unless explicitly silenced.\n",
      "In the face of ambiguity, refuse the temptation to guess.\n",
      "There should be one-- and preferably only one --obvious way to do it.\n",
      "Although that way may not be obvious at first unless you're Dutch.\n",
      "Now is better than never.\n",
      "Although never is often better than *right* now.\n",
      "If the implementation is hard to explain, it's a bad idea.\n",
      "If the implementation is easy to explain, it may be a good idea.\n",
      "Namespaces are one honking great idea -- let's do more of those!\n"
     ]
    }
   ],
   "source": [
    "import this"
   ]
  },
  {
   "cell_type": "markdown",
   "id": "07895722",
   "metadata": {},
   "source": [
    "## Bedingte Anweisungen (Conditionals)"
   ]
  },
  {
   "cell_type": "code",
   "execution_count": 60,
   "id": "a29a39f8",
   "metadata": {},
   "outputs": [],
   "source": [
    "temp = 20\n"
   ]
  },
  {
   "cell_type": "code",
   "execution_count": 61,
   "id": "1caaaa2d",
   "metadata": {},
   "outputs": [
    {
     "data": {
      "text/plain": [
       "True"
      ]
     },
     "execution_count": 61,
     "metadata": {},
     "output_type": "execute_result"
    }
   ],
   "source": [
    "20 > 10"
   ]
  },
  {
   "cell_type": "code",
   "execution_count": 62,
   "id": "7d7f255e",
   "metadata": {},
   "outputs": [
    {
     "data": {
      "text/plain": [
       "False"
      ]
     },
     "execution_count": 62,
     "metadata": {},
     "output_type": "execute_result"
    }
   ],
   "source": [
    "20 < 10"
   ]
  },
  {
   "cell_type": "code",
   "execution_count": 64,
   "id": "1c2d30da",
   "metadata": {},
   "outputs": [
    {
     "name": "stdout",
     "output_type": "stream",
     "text": [
      "It's warm.\n"
     ]
    }
   ],
   "source": [
    "temp = 20\n",
    "if temp > 15:\n",
    "    print (\"It's warm.\")"
   ]
  },
  {
   "cell_type": "code",
   "execution_count": 66,
   "id": "515cfc06",
   "metadata": {},
   "outputs": [
    {
     "name": "stdout",
     "output_type": "stream",
     "text": [
      "It's warm.\n"
     ]
    }
   ],
   "source": [
    "temp = 15\n",
    "if temp >= 15:\n",
    "    print (\"It's warm.\")"
   ]
  },
  {
   "cell_type": "code",
   "execution_count": 68,
   "id": "44e19d26",
   "metadata": {},
   "outputs": [
    {
     "name": "stdout",
     "output_type": "stream",
     "text": [
      "It's cold.\n"
     ]
    }
   ],
   "source": [
    "temp = 10\n",
    "if temp >= 15:\n",
    "    print (\"It's warm.\")\n",
    "else:\n",
    "    print(\"It's cold.\")"
   ]
  },
  {
   "cell_type": "code",
   "execution_count": 69,
   "id": "02e48a37",
   "metadata": {},
   "outputs": [
    {
     "name": "stdout",
     "output_type": "stream",
     "text": [
      "It's hot.\n"
     ]
    }
   ],
   "source": [
    "temp = 25\n",
    "if temp >= 25:\n",
    "    print (\"It's hot.\")\n",
    "elif temp>= 15:\n",
    "    print (\"It's warm.\")\n",
    "else:\n",
    "    print(\"It's cold.\")"
   ]
  },
  {
   "cell_type": "code",
   "execution_count": null,
   "id": "95f748c0",
   "metadata": {},
   "outputs": [],
   "source": [
    "Erstellt eine Liste mit allen Namen aus eurer Gruppe.\n",
    "Baut eine For-Schleife, die auf die Liste zurückgreift\n",
    "und für jede Person das Lieblingsessen zurückgibt.\n",
    "Beispiel:\n",
    "    \"Rabeas Lieblingsessen ist Lasagne\""
   ]
  },
  {
   "cell_type": "code",
   "execution_count": 2,
   "id": "f3414ebc",
   "metadata": {},
   "outputs": [],
   "source": [
    "namen1_and_lieblingsessen = {\"Johannes\": \"Lasagne\",\n",
    "                           \"Dana\": \"Spaghetti\",\n",
    "                           \"Heinke\": \"Grünkohl\",\n",
    "                           \"Katrin\": \"Kürbissuppe\"}"
   ]
  },
  {
   "cell_type": "code",
   "execution_count": 1,
   "id": "46335ccf",
   "metadata": {},
   "outputs": [],
   "source": [
    "names1 = [\"Johannes\", \"Dana\", \"Heinke\", \"Katrin\"]"
   ]
  },
  {
   "cell_type": "code",
   "execution_count": 3,
   "id": "518883f4",
   "metadata": {},
   "outputs": [
    {
     "name": "stdout",
     "output_type": "stream",
     "text": [
      "Johannes mag gerne Lasagne\n",
      "Dana mag gerne Spaghetti\n",
      "Heinke mag gerne Grünkohl\n",
      "Katrin mag gerne Kürbissuppe\n"
     ]
    }
   ],
   "source": [
    "for person in names1:\n",
    "    print(person + \" mag gerne \" + namen1_and_lieblingsessen[person])\n"
   ]
  },
  {
   "cell_type": "code",
   "execution_count": 4,
   "id": "94beb8fa",
   "metadata": {},
   "outputs": [
    {
     "name": "stdout",
     "output_type": "stream",
     "text": [
      "Johannes mag gerne Lasagne\n",
      "Dana mag gerne Spaghetti\n",
      "Heinke mag gerne Grünkohl\n",
      "Katrin mag gerne Kürbissuppe\n"
     ]
    }
   ],
   "source": [
    "for person in namen1_and_lieblingsessen.keys():\n",
    "    print(person + \" mag gerne \" + namen1_and_lieblingsessen[person])\n"
   ]
  },
  {
   "cell_type": "code",
   "execution_count": 5,
   "id": "699b813b",
   "metadata": {},
   "outputs": [],
   "source": [
    "namen1_and_lieblingsessen = {\"Johannes\": \"Lasagne\",\n",
    "                           \"Dana\": \"Spaghetti\",\n",
    "                           \"Heinke\": \"Grünkohl\",\n",
    "                           \"Katrin\": \"Kürbissuppe\"}"
   ]
  },
  {
   "cell_type": "code",
   "execution_count": 6,
   "id": "a9a5e0ba",
   "metadata": {},
   "outputs": [
    {
     "name": "stdout",
     "output_type": "stream",
     "text": [
      "Johannes mag gerne Lasagne\n",
      "Dana mag gerne Spaghetti\n",
      "Heinke mag gerne Grünkohl\n",
      "Katrin mag gerne Kürbissuppe\n"
     ]
    }
   ],
   "source": [
    "for person in namen1_and_lieblingsessen.keys():\n",
    "    print(person + \" mag gerne \" + namen1_and_lieblingsessen[person])"
   ]
  },
  {
   "cell_type": "code",
   "execution_count": null,
   "id": "713f5bb5",
   "metadata": {},
   "outputs": [],
   "source": []
  }
 ],
 "metadata": {
  "kernelspec": {
   "display_name": "Python 3 (ipykernel)",
   "language": "python",
   "name": "python3"
  },
  "language_info": {
   "codemirror_mode": {
    "name": "ipython",
    "version": 3
   },
   "file_extension": ".py",
   "mimetype": "text/x-python",
   "name": "python",
   "nbconvert_exporter": "python",
   "pygments_lexer": "ipython3",
   "version": "3.9.7"
  }
 },
 "nbformat": 4,
 "nbformat_minor": 5
}
